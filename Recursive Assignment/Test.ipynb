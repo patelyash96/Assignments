{
 "cells": [
  {
   "cell_type": "code",
   "execution_count": null,
   "id": "f0937c02",
   "metadata": {},
   "outputs": [],
   "source": [
    "# Researchers have measured a bivariate timeseries, but the equipment was unreliable so the data has gaps as well as noise. The data can be found in data.csv In this exercise, we want to train an MLP to regress the full observed trajectory from the measured data. Formally, the MLP will be used to approximate the function  𝑓:ℝ→ℝ2;𝑓(𝑡)=(𝑥(𝑡),𝑦(𝑡)) . In other words, the model takes the current time as an input, and predicts the values of x and y at that time based only on the measured data. Your task is to define the data loader, the MLP model and the loss function to complete this task successfully. For this problem you will need to use a regression loss, not a classification loss. Successful training should result in a data interpolation similar to the below:\n",
    "\n",
    "import torch\n",
    "import torch.nn as nn\n",
    "import torch.nn.functional as F\n",
    "import torch.optim as optim\n",
    "import pandas as pd\n",
    "\n",
    "class Net(nn.Module):\n",
    "    \n",
    "    #Model to regress 2d time series values given scalar input.\n",
    "    def __init__(self):\n",
    "        super(Net, self).__init__()\n",
    "        #step 1 Implement \n",
    "        \n",
    "    def forward(self, x):\n",
    "        #step 2 Implement \n",
    "        \n",
    "class TimeSeriesDataset(torch.utils.data.Dataset):\n",
    "\n",
    "    def __init__(self, csv_file):\n",
    "        #step 3 Implement \n",
    "\n",
    "    def __len__(self):\n",
    "        #step 4 Implement \n",
    "\n",
    "    def __getitem__(self, idx):\n",
    "        #step 5 Implement \n",
    "        \n",
    "BATCH_SIZE = #?\n",
    "dataset = TimeSeriesDataset('data.csv')\n",
    "trainloader = torch.utils.data.DataLoader(dataset, batch_size=BATCH_SIZE, shuffle=True, num_workers=2)\n",
    "\n",
    "    def loss_fn(outputs, labels):\n",
    "        #step 6 Implement\n",
    "\n",
    "    optimizer = #step 7 Implement \n",
    "\n",
    "    net = Net()\n",
    "    \n",
    "for epoch in range(300):\n",
    "\n",
    "    running_loss = 0.0\n",
    "    for i, data in enumerate(trainloader, 0):\n",
    "        inputs, labels = data\n",
    "\n",
    "        # zero the parameter gradients\n",
    "        optimizer.zero_grad()\n",
    "\n",
    "        # forward + backward + optimize\n",
    "        outputs = net(inputs)\n",
    "        loss = loss_fn(outputs, labels)\n",
    "        loss.backward()\n",
    "        optimizer.step()\n",
    "        \n",
    "        # print statistics\n",
    "        running_loss += loss.item()\n",
    "        if i % 20 == 19:    # print every 20 mini-batches\n",
    "            print('[%d, %5d] loss: %.3f' %\n",
    "                  (epoch + 1, i + 1, running_loss / 20))\n",
    "            running_loss = 0.0\n",
    "\n",
    "print('Finished Training')"
   ]
  },
  {
   "cell_type": "code",
   "execution_count": 6,
   "id": "0dd85572",
   "metadata": {},
   "outputs": [
    {
     "name": "stdout",
     "output_type": "stream",
     "text": [
      "Finished Training\n"
     ]
    }
   ],
   "source": [
    "import torch\n",
    "import torch.nn as nn\n",
    "import torch.nn.functional as F\n",
    "import torch.optim as optim\n",
    "import pandas as pd\n",
    "import matplotlib.pyplot as plt\n",
    "\n",
    "class Net(nn.Module):\n",
    "\n",
    "    # Model to regress 2d time series values given scalar input.\n",
    "    def __init__(self):\n",
    "        super(Net, self).__init__()\n",
    "        # define two fully connected layers with 32 hidden units each\n",
    "        self.fc1 = nn.Linear(1, 32)\n",
    "        self.fc2 = nn.Linear(32, 32)\n",
    "        # define the output layer with 2 units for the x and y values\n",
    "        self.fc3 = nn.Linear(32, 2)\n",
    "\n",
    "    def forward(self, x):\n",
    "        # reshape the input tensor to have the shape (batch_size, 1)\n",
    "        x = x.view(-1, 1)\n",
    "        # apply the ReLU activation function to the output of the first two layers\n",
    "        x = F.relu(self.fc1(x))\n",
    "        x = F.relu(self.fc2(x))\n",
    "        # return the output of the third layer without applying any activation function\n",
    "        return self.fc3(x)\n",
    "    \n",
    "class TimeSeriesDataset(torch.utils.data.Dataset):\n",
    "\n",
    "    def __init__(self, csv_file):\n",
    "        # load the data from the CSV file and replace '-' with 0\n",
    "        self.data = pd.read_csv(csv_file).replace('-','0')\n",
    "        # convert the x and y columns to numbers\n",
    "        self.data[['x', 'y']] = self.data[['x', 'y']].astype(float)\n",
    "\n",
    "    def __len__(self):\n",
    "        # return the length of the dataset\n",
    "        return len(self.data)\n",
    "\n",
    "    def __getitem__(self, idx):\n",
    "    # return a tuple containing the input time and the corresponding x and y values as a tensor\n",
    "        time = self.data.iloc[idx, 0]\n",
    "        x = self.data.iloc[idx, 1]\n",
    "        y = self.data.iloc[idx, 2]\n",
    "        time_tensor = torch.tensor(time, dtype=torch.float).unsqueeze(0)\n",
    "        labels = torch.tensor((x, y), dtype=torch.float)\n",
    "        return (time_tensor, labels)\n",
    "\n",
    "    \n",
    "def loss_fn(outputs, labels):\n",
    "    # compute the mean squared error loss\n",
    "    return torch.mean((outputs - labels) ** 2)\n",
    "\n",
    "\n",
    "BATCH_SIZE = 128\n",
    "\n",
    "# initialize the dataset and data loader\n",
    "dataset = TimeSeriesDataset('data.csv')\n",
    "trainloader = torch.utils.data.DataLoader(dataset, batch_size=BATCH_SIZE, shuffle=True, num_workers=0)\n",
    "\n",
    "# initialize the model, loss function, and optimizer\n",
    "net = Net()\n",
    "optimizer = optim.Adam(net.parameters())\n",
    "\n",
    "for epoch in range(300):\n",
    "\n",
    "    running_loss = 0.0\n",
    "    for i, data in enumerate(trainloader, 0):\n",
    "        inputs, labels = data\n",
    "\n",
    "        # zero the parameter gradients\n",
    "        optimizer.zero_grad()\n",
    "\n",
    "        # forward + backward + optimize\n",
    "        outputs = net(inputs)\n",
    "        loss = loss_fn(outputs, labels)\n",
    "        loss.backward()\n",
    "        optimizer.step()\n",
    "        \n",
    "        # print statistics\n",
    "        running_loss += loss.item()\n",
    "        if i % 20 == 19:    # print every 20 mini-batches\n",
    "            print('[%d, %5d] loss: %.3f' %(epoch + 1, i + 1, running_loss / 20))\n",
    "            running_loss = 0.0\n",
    "\n",
    "print('Finished Training')"
   ]
  },
  {
   "cell_type": "code",
   "execution_count": null,
   "id": "deee8927",
   "metadata": {},
   "outputs": [],
   "source": [
    "plt.plot(loss_values)\n",
    "plt.xlabel('Epoch')\n",
    "plt.ylabel('Loss')\n",
    "plt.show()"
   ]
  },
  {
   "cell_type": "code",
   "execution_count": 3,
   "id": "5580a210",
   "metadata": {},
   "outputs": [
    {
     "name": "stdout",
     "output_type": "stream",
     "text": [
      "\u001b[31mERROR: Could not find a version that satisfies the requirement person_reid (from versions: none)\u001b[0m\u001b[31m\n",
      "\u001b[0m\u001b[31mERROR: No matching distribution found for person_reid\u001b[0m\u001b[31m\n",
      "\u001b[0mNote: you may need to restart the kernel to use updated packages.\n"
     ]
    }
   ],
   "source": [
    "pip install person_reid"
   ]
  },
  {
   "cell_type": "code",
   "execution_count": 2,
   "id": "86cd674f",
   "metadata": {},
   "outputs": [
    {
     "name": "stdout",
     "output_type": "stream",
     "text": [
      "Collecting pip\n",
      "  Using cached https://files.pythonhosted.org/packages/09/bd/2410905c76ee14c62baf69e3f4aa780226c1bbfc9485731ad018e35b0cb5/pip-22.3.1-py3-none-any.whl\n",
      "Installing collected packages: pip\n",
      "  Found existing installation: pip 19.2.3\n",
      "    Uninstalling pip-19.2.3:\n",
      "      Successfully uninstalled pip-19.2.3\n",
      "Successfully installed pip-22.3.1\n",
      "Note: you may need to restart the kernel to use updated packages.\n"
     ]
    }
   ],
   "source": [
    "pip install --upgrade pip"
   ]
  },
  {
   "cell_type": "code",
   "execution_count": null,
   "id": "372a7d43",
   "metadata": {},
   "outputs": [],
   "source": [
    "pip install person_reid"
   ]
  }
 ],
 "metadata": {
  "kernelspec": {
   "display_name": "Python 3 (ipykernel)",
   "language": "python",
   "name": "python3"
  },
  "language_info": {
   "codemirror_mode": {
    "name": "ipython",
    "version": 3
   },
   "file_extension": ".py",
   "mimetype": "text/x-python",
   "name": "python",
   "nbconvert_exporter": "python",
   "pygments_lexer": "ipython3",
   "version": "3.8.0"
  }
 },
 "nbformat": 4,
 "nbformat_minor": 5
}
