{
 "cells": [
  {
   "cell_type": "code",
   "execution_count": 1,
   "id": "e174fc01",
   "metadata": {},
   "outputs": [],
   "source": [
    "import torch\n",
    "import torch.nn as nn\n",
    "import torch.nn.functional as F\n",
    "import torch.optim as optim\n",
    "import pandas as pd"
   ]
  },
  {
   "cell_type": "code",
   "execution_count": 2,
   "id": "f653f950",
   "metadata": {},
   "outputs": [],
   "source": [
    "class Net(nn.Module):\n",
    "\n",
    "    # Model to regress 2d time series values given scalar input.\n",
    "    def __init__(self):\n",
    "        super(Net, self).__init__()\n",
    "        # define two fully connected layers with 32 hidden units each\n",
    "        self.fc1 = nn.Linear(1, 32)\n",
    "        self.fc2 = nn.Linear(32, 32)\n",
    "        # define the output layer with 2 units for the x and y values\n",
    "        self.fc3 = nn.Linear(32, 2)\n",
    "\n",
    "    def forward(self, x):\n",
    "        # reshape the input tensor to have the shape (batch_size, 1)\n",
    "        x = x.view(-1, 1)\n",
    "        # apply the ReLU activation function to the output of the first two layers\n",
    "        x = F.relu(self.fc1(x))\n",
    "        x = F.relu(self.fc2(x))\n",
    "        # return the output of the third layer without applying any activation function\n",
    "        return self.fc3(x)"
   ]
  },
  {
   "cell_type": "code",
   "execution_count": 3,
   "id": "5d9ef1f4",
   "metadata": {},
   "outputs": [],
   "source": [
    "class TimeSeriesDataset(torch.utils.data.Dataset):\n",
    "\n",
    "    def __init__(self, csv_file):\n",
    "        # load the data from the CSV file and replace '-' with 0\n",
    "        self.data = pd.read_csv(csv_file).replace('-','0')\n",
    "        # convert the x and y columns to numbers\n",
    "        self.data[['x', 'y']] = self.data[['x', 'y']].astype(float)\n",
    "\n",
    "    def __len__(self):\n",
    "        # return the length of the dataset\n",
    "        return len(self.data)\n",
    "\n",
    "    def __getitem__(self, idx):\n",
    "        # return a tuple containing the input time and the corresponding x and y values as a tensor\n",
    "        time = self.data.iloc[idx, 0]\n",
    "        x = self.data.iloc[idx, 1]\n",
    "        y = self.data.iloc[idx, 2]\n",
    "        time_tensor = torch.tensor(time, dtype=torch.float).unsqueeze(0)\n",
    "        labels = torch.tensor((x, y), dtype=torch.float)\n",
    "        return (time_tensor, labels)"
   ]
  },
  {
   "cell_type": "code",
   "execution_count": 4,
   "id": "f064ce1c",
   "metadata": {},
   "outputs": [],
   "source": [
    "def loss_fn(outputs, labels):\n",
    "    # compute the mean squared error loss\n",
    "    return torch.mean((outputs - labels) ** 2)\n",
    "\n",
    "\n",
    "BATCH_SIZE = 128\n",
    "\n",
    "# initialize the dataset and data loader\n",
    "dataset = TimeSeriesDataset('data.csv')\n",
    "trainloader = torch.utils.data.DataLoader(dataset, batch_size=BATCH_SIZE, shuffle=True, num_workers=0)\n",
    "\n",
    "# initialize the model, loss function, and optimizer\n",
    "net = Net()\n",
    "optimizer = optim.Adam(net.parameters())"
   ]
  },
  {
   "cell_type": "code",
   "execution_count": 5,
   "id": "cd796032",
   "metadata": {},
   "outputs": [
    {
     "name": "stdout",
     "output_type": "stream",
     "text": [
      "Finished Training\n"
     ]
    }
   ],
   "source": [
    "for epoch in range(300):\n",
    "\n",
    "    running_loss = 0.0\n",
    "    for i, data in enumerate(trainloader, 0):\n",
    "        inputs, labels = data\n",
    "\n",
    "        # zero the parameter gradients\n",
    "        optimizer.zero_grad()\n",
    "\n",
    "        # forward + backward + optimize\n",
    "        outputs = net(inputs)\n",
    "        loss = loss_fn(outputs, labels)\n",
    "        loss.backward()\n",
    "        optimizer.step()\n",
    "        \n",
    "        # print statistics\n",
    "        running_loss += loss.item()\n",
    "        if i % 20 == 19:    # print every 20 mini-batches\n",
    "            print('[%d, %5d] loss: %.3f' %(epoch + 1, i + 1, running_loss / 20))\n",
    "            running_loss = 0.0\n",
    "\n",
    "print('Finished Training')"
   ]
  },
  {
   "cell_type": "code",
   "execution_count": 6,
   "id": "684efbe0",
   "metadata": {},
   "outputs": [],
   "source": [
    "# Plot results to validate training"
   ]
  },
  {
   "cell_type": "code",
   "execution_count": null,
   "id": "60186867",
   "metadata": {},
   "outputs": [],
   "source": []
  }
 ],
 "metadata": {
  "kernelspec": {
   "display_name": "Python 3 (ipykernel)",
   "language": "python",
   "name": "python3"
  },
  "language_info": {
   "codemirror_mode": {
    "name": "ipython",
    "version": 3
   },
   "file_extension": ".py",
   "mimetype": "text/x-python",
   "name": "python",
   "nbconvert_exporter": "python",
   "pygments_lexer": "ipython3",
   "version": "3.8.0"
  }
 },
 "nbformat": 4,
 "nbformat_minor": 5
}
